{
 "cells": [
  {
   "cell_type": "code",
   "execution_count": 6,
   "id": "ec01f267",
   "metadata": {},
   "outputs": [],
   "source": [
    "import tensorflow as tf\n",
    "from tensorflow.keras import models, layers\n",
    "import matplotlib.pyplot as plt\n",
    "import seaborn as sns\n",
    "from keras.models import Sequential\n",
    "from keras.utils import to_categorical\n",
    "from keras.layers import Dense, Conv2D, MaxPooling2D, Dropout, Flatten\n",
    "# from kaggle_datasets import KaggleDatasets\n"
   ]
  },
  {
   "cell_type": "code",
   "execution_count": 7,
   "id": "7543810d",
   "metadata": {},
   "outputs": [],
   "source": [
    "IMAGE_SIZE = 32\n",
    "BATCH_SIZE = 32\n",
    "CHANNELS = 3\n",
    "EPOCHS = 15"
   ]
  },
  {
   "cell_type": "code",
   "execution_count": 8,
   "id": "a2a363ef",
   "metadata": {},
   "outputs": [
    {
     "name": "stdout",
     "output_type": "stream",
     "text": [
      "Found 8439 files belonging to 2 classes.\n"
     ]
    }
   ],
   "source": [
    "dataset = tf.keras.preprocessing.image_dataset_from_directory (\n",
    " \"COVID-19_Lung_CT_Scans\", shuffle = True, image_size = (IMAGE_SIZE, IMAGE_SIZE), batch_size = BATCH_SIZE)"
   ]
  },
  {
   "cell_type": "code",
   "execution_count": 9,
   "id": "60adc75c",
   "metadata": {},
   "outputs": [
    {
     "data": {
      "text/plain": [
       "['COVID-19', 'Non-COVID-19']"
      ]
     },
     "execution_count": 9,
     "metadata": {},
     "output_type": "execute_result"
    }
   ],
   "source": [
    "class_names = dataset.class_names\n",
    "class_names"
   ]
  },
  {
   "cell_type": "code",
   "execution_count": 10,
   "id": "50e31644",
   "metadata": {},
   "outputs": [
    {
     "data": {
      "text/plain": [
       "264"
      ]
     },
     "execution_count": 10,
     "metadata": {},
     "output_type": "execute_result"
    }
   ],
   "source": [
    "len(dataset)"
   ]
  },
  {
   "cell_type": "code",
   "execution_count": 11,
   "id": "f27cb959",
   "metadata": {},
   "outputs": [
    {
     "name": "stdout",
     "output_type": "stream",
     "text": [
      "(32, 32, 32, 3)\n",
      "[0 0 0 0 0 0 0 0 0 0 0 0 0 0 0 0 0 0 0 0 0 0 0 0 0 0 0 0 0 0 0 0]\n"
     ]
    }
   ],
   "source": [
    "for image_batch, label_batch in dataset.take(1):\n",
    "    print(image_batch.shape)\n",
    "#     print(image_batch[0].numpy())\n",
    "    print(label_batch.numpy())"
   ]
  },
  {
   "cell_type": "code",
   "execution_count": 12,
   "id": "53278816",
   "metadata": {},
   "outputs": [
    {
     "data": {
      "text/plain": [
       "211.20000000000002"
      ]
     },
     "execution_count": 12,
     "metadata": {},
     "output_type": "execute_result"
    }
   ],
   "source": [
    "train_size = 0.8\n",
    "len(dataset)*train_size"
   ]
  },
  {
   "cell_type": "code",
   "execution_count": 13,
   "id": "cb59466a",
   "metadata": {},
   "outputs": [
    {
     "data": {
      "text/plain": [
       "211"
      ]
     },
     "execution_count": 13,
     "metadata": {},
     "output_type": "execute_result"
    }
   ],
   "source": [
    "train_ds = dataset.take(211)\n",
    "len(train_ds)"
   ]
  },
  {
   "cell_type": "code",
   "execution_count": 14,
   "id": "4a499eb6",
   "metadata": {},
   "outputs": [
    {
     "data": {
      "text/plain": [
       "53"
      ]
     },
     "execution_count": 14,
     "metadata": {},
     "output_type": "execute_result"
    }
   ],
   "source": [
    "temp_ds = dataset.skip(211)\n",
    "len(temp_ds)\n"
   ]
  },
  {
   "cell_type": "code",
   "execution_count": 15,
   "id": "65f7961f",
   "metadata": {},
   "outputs": [
    {
     "data": {
      "text/plain": [
       "25"
      ]
     },
     "execution_count": 15,
     "metadata": {},
     "output_type": "execute_result"
    }
   ],
   "source": [
    "val_size = 0.1\n",
    "len(dataset)*val_size\n",
    "val_ds = temp_ds.take(25)\n",
    "len(val_ds)\n"
   ]
  },
  {
   "cell_type": "code",
   "execution_count": 16,
   "id": "2f714740",
   "metadata": {},
   "outputs": [
    {
     "data": {
      "text/plain": [
       "28"
      ]
     },
     "execution_count": 16,
     "metadata": {},
     "output_type": "execute_result"
    }
   ],
   "source": [
    "test_ds = temp_ds.skip(25)\n",
    "len(test_ds)"
   ]
  },
  {
   "cell_type": "code",
   "execution_count": 17,
   "id": "26cdf9e2",
   "metadata": {},
   "outputs": [],
   "source": [
    "def get_dataset_partitions_tf(ds, train_split = 0.8, val_split = 0.1 , test_split = 0.1, shuffle = True, shuffle_size = 10000):\n",
    "    \n",
    "    ds_size = len(ds)\n",
    "    if shuffle:\n",
    "        ds = ds.shuffle(shuffle_size, seed = 12)\n",
    "\n",
    "    train_size = int(train_split * ds_size)\n",
    "    val_size = int(val_split * ds_size)\n",
    "    \n",
    "    train_ds = ds.take(train_size)\n",
    "    \n",
    "    val_ds = ds.skip(train_size).take(val_size)\n",
    "    test_ds = ds.skip(train_size).skip(val_size)\n",
    "    \n",
    "    return train_ds, val_ds, test_ds "
   ]
  },
  {
   "cell_type": "code",
   "execution_count": 18,
   "id": "45b4237c",
   "metadata": {},
   "outputs": [],
   "source": [
    "train_ds, val_ds, test_ds = get_dataset_partitions_tf(dataset)"
   ]
  },
  {
   "cell_type": "code",
   "execution_count": 19,
   "id": "82881e0a",
   "metadata": {},
   "outputs": [
    {
     "data": {
      "text/plain": [
       "211"
      ]
     },
     "execution_count": 19,
     "metadata": {},
     "output_type": "execute_result"
    }
   ],
   "source": [
    "len(train_ds)"
   ]
  },
  {
   "cell_type": "code",
   "execution_count": 20,
   "id": "570ff9bc",
   "metadata": {},
   "outputs": [],
   "source": [
    "train_ds = train_ds.cache().shuffle(1000).prefetch(buffer_size=tf.data.AUTOTUNE)\n",
    "val_ds = val_ds.cache().shuffle(1000).prefetch(buffer_size=tf.data.AUTOTUNE)\n",
    "test_ds = test_ds.cache().shuffle(1000).prefetch(buffer_size=tf.data.AUTOTUNE)"
   ]
  },
  {
   "cell_type": "code",
   "execution_count": 21,
   "id": "bf6d5857",
   "metadata": {},
   "outputs": [],
   "source": [
    "# rollnumbers_based_CNN_model = 361174 --> 471163 , \n",
    "\n",
    "input_shape = (IMAGE_SIZE, IMAGE_SIZE, CHANNELS)\n",
    "\n",
    "def createModel():\n",
    "    model = Sequential()\n",
    "    # The first two layers with 32 filters of window size 3x3 as 4-1 =3\n",
    "    model.add(Conv2D(32, (3, 3), padding='same', activation='relu', input_shape=input_shape))\n",
    "    model.add(Conv2D(32, (5, 5), activation='relu'))\n",
    "    model.add(MaxPooling2D(pool_size=(2, 2)))\n",
    "    model.add(Dropout(0.25))\n",
    "    \n",
    "    \n",
    "    model.add(Conv2D(64, (1, 1), padding='same', activation='relu'))\n",
    "    model.add(Conv2D(64, (1, 1), activation='relu'))\n",
    "    model.add(MaxPooling2D(pool_size=(2, 2)))\n",
    "    model.add(Dropout(0.25))\n",
    "\n",
    "    model.add(Conv2D(64, (5, 5), padding='same', activation='relu'))\n",
    "    model.add(Conv2D(64, (3, 3), activation='relu'))\n",
    "    model.add(MaxPooling2D(pool_size=(2, 2)))\n",
    "    model.add(Dropout(0.25))\n",
    "\n",
    "    model.add(Flatten())\n",
    "    model.add(Dense(64, activation='relu'))\n",
    "    model.add(Dropout(0.5))\n",
    "    model.add(Dense(10, activation='softmax'))\n",
    "    \n",
    "    return model"
   ]
  },
  {
   "cell_type": "code",
   "execution_count": 22,
   "id": "7443581b",
   "metadata": {},
   "outputs": [
    {
     "name": "stdout",
     "output_type": "stream",
     "text": [
      "Model: \"sequential\"\n",
      "_________________________________________________________________\n",
      " Layer (type)                Output Shape              Param #   \n",
      "=================================================================\n",
      " conv2d (Conv2D)             (None, 32, 32, 32)        896       \n",
      "                                                                 \n",
      " conv2d_1 (Conv2D)           (None, 28, 28, 32)        25632     \n",
      "                                                                 \n",
      " max_pooling2d (MaxPooling2D  (None, 14, 14, 32)       0         \n",
      " )                                                               \n",
      "                                                                 \n",
      " dropout (Dropout)           (None, 14, 14, 32)        0         \n",
      "                                                                 \n",
      " conv2d_2 (Conv2D)           (None, 14, 14, 64)        2112      \n",
      "                                                                 \n",
      " conv2d_3 (Conv2D)           (None, 14, 14, 64)        4160      \n",
      "                                                                 \n",
      " max_pooling2d_1 (MaxPooling  (None, 7, 7, 64)         0         \n",
      " 2D)                                                             \n",
      "                                                                 \n",
      " dropout_1 (Dropout)         (None, 7, 7, 64)          0         \n",
      "                                                                 \n",
      " conv2d_4 (Conv2D)           (None, 7, 7, 64)          102464    \n",
      "                                                                 \n",
      " conv2d_5 (Conv2D)           (None, 5, 5, 64)          36928     \n",
      "                                                                 \n",
      " max_pooling2d_2 (MaxPooling  (None, 2, 2, 64)         0         \n",
      " 2D)                                                             \n",
      "                                                                 \n",
      " dropout_2 (Dropout)         (None, 2, 2, 64)          0         \n",
      "                                                                 \n",
      " flatten (Flatten)           (None, 256)               0         \n",
      "                                                                 \n",
      " dense (Dense)               (None, 64)                16448     \n",
      "                                                                 \n",
      " dropout_3 (Dropout)         (None, 64)                0         \n",
      "                                                                 \n",
      " dense_1 (Dense)             (None, 10)                650       \n",
      "                                                                 \n",
      "=================================================================\n",
      "Total params: 189,290\n",
      "Trainable params: 189,290\n",
      "Non-trainable params: 0\n",
      "_________________________________________________________________\n"
     ]
    }
   ],
   "source": [
    "model1 = createModel()\n",
    "batch_size = 32\n",
    "epochs = 15\n",
    "model1.compile(optimizer='adam', loss='sparse_categorical_crossentropy', metrics=['accuracy'])\n",
    "model1.summary()"
   ]
  },
  {
   "cell_type": "code",
   "execution_count": 23,
   "id": "424266be",
   "metadata": {},
   "outputs": [],
   "source": [
    "model1.compile(optimizer='adam', loss='sparse_categorical_crossentropy', metrics=['accuracy'])"
   ]
  },
  {
   "cell_type": "code",
   "execution_count": 24,
   "id": "c69247ac",
   "metadata": {},
   "outputs": [
    {
     "name": "stdout",
     "output_type": "stream",
     "text": [
      "Epoch 1/15\n",
      "211/211 [==============================] - 70s 221ms/step - loss: 0.7747 - accuracy: 0.8627 - val_loss: 0.3028 - val_accuracy: 0.9038\n",
      "Epoch 2/15\n",
      "211/211 [==============================] - 27s 125ms/step - loss: 0.3302 - accuracy: 0.8876 - val_loss: 0.2709 - val_accuracy: 0.9038\n",
      "Epoch 3/15\n",
      "211/211 [==============================] - 26s 125ms/step - loss: 0.2668 - accuracy: 0.9036 - val_loss: 0.1475 - val_accuracy: 0.9471\n",
      "Epoch 4/15\n",
      "211/211 [==============================] - 25s 117ms/step - loss: 0.1936 - accuracy: 0.9352 - val_loss: 0.1797 - val_accuracy: 0.9459\n",
      "Epoch 5/15\n",
      "211/211 [==============================] - 27s 127ms/step - loss: 0.1667 - accuracy: 0.9447 - val_loss: 0.1032 - val_accuracy: 0.9639\n",
      "Epoch 6/15\n",
      "211/211 [==============================] - 27s 126ms/step - loss: 0.1396 - accuracy: 0.9565 - val_loss: 0.0820 - val_accuracy: 0.9748\n",
      "Epoch 7/15\n",
      "211/211 [==============================] - 26s 123ms/step - loss: 0.1270 - accuracy: 0.9580 - val_loss: 0.1120 - val_accuracy: 0.9663\n",
      "Epoch 8/15\n",
      "211/211 [==============================] - 36s 169ms/step - loss: 0.1150 - accuracy: 0.9643 - val_loss: 0.0684 - val_accuracy: 0.9772\n",
      "Epoch 9/15\n",
      "211/211 [==============================] - 28s 131ms/step - loss: 0.1074 - accuracy: 0.9656 - val_loss: 0.0654 - val_accuracy: 0.9772\n",
      "Epoch 10/15\n",
      "211/211 [==============================] - 30s 144ms/step - loss: 0.0914 - accuracy: 0.9721 - val_loss: 0.1654 - val_accuracy: 0.9303\n",
      "Epoch 11/15\n",
      "211/211 [==============================] - 30s 140ms/step - loss: 0.1048 - accuracy: 0.9665 - val_loss: 0.0733 - val_accuracy: 0.9748\n",
      "Epoch 12/15\n",
      "211/211 [==============================] - 34s 163ms/step - loss: 0.0849 - accuracy: 0.9736 - val_loss: 0.0393 - val_accuracy: 0.9880\n",
      "Epoch 13/15\n",
      "211/211 [==============================] - 28s 132ms/step - loss: 0.0803 - accuracy: 0.9736 - val_loss: 0.0412 - val_accuracy: 0.9868\n",
      "Epoch 14/15\n",
      "211/211 [==============================] - 28s 132ms/step - loss: 0.0695 - accuracy: 0.9788 - val_loss: 0.0431 - val_accuracy: 0.9820\n",
      "Epoch 15/15\n",
      "211/211 [==============================] - 26s 124ms/step - loss: 0.0665 - accuracy: 0.9809 - val_loss: 0.0404 - val_accuracy: 0.9892\n"
     ]
    }
   ],
   "source": [
    "history = model1.fit(train_ds, epochs = epochs, batch_size = batch_size, verbose = 1, validation_data = val_ds)"
   ]
  },
  {
   "cell_type": "code",
   "execution_count": 25,
   "id": "2569b7e1",
   "metadata": {},
   "outputs": [
    {
     "name": "stdout",
     "output_type": "stream",
     "text": [
      "211/211 [==============================] - 9s 43ms/step - loss: 0.0327 - accuracy: 0.9893\n"
     ]
    },
    {
     "data": {
      "text/plain": [
       "[0.032701361924409866, 0.9893222451210022]"
      ]
     },
     "execution_count": 25,
     "metadata": {},
     "output_type": "execute_result"
    }
   ],
   "source": [
    "model1.evaluate(train_ds)"
   ]
  },
  {
   "cell_type": "code",
   "execution_count": 26,
   "id": "b21650aa",
   "metadata": {},
   "outputs": [
    {
     "name": "stdout",
     "output_type": "stream",
     "text": [
      "26/26 [==============================] - 1s 41ms/step - loss: 0.0404 - accuracy: 0.9892\n"
     ]
    },
    {
     "data": {
      "text/plain": [
       "[0.040383920073509216, 0.989182710647583]"
      ]
     },
     "execution_count": 26,
     "metadata": {},
     "output_type": "execute_result"
    }
   ],
   "source": [
    "model1.evaluate(val_ds)"
   ]
  },
  {
   "cell_type": "code",
   "execution_count": 27,
   "id": "59716bea",
   "metadata": {},
   "outputs": [
    {
     "name": "stdout",
     "output_type": "stream",
     "text": [
      "27/27 [==============================] - 19s 42ms/step - loss: 0.0443 - accuracy: 0.9861\n"
     ]
    },
    {
     "data": {
      "text/plain": [
       "[0.04430871829390526, 0.9861111044883728]"
      ]
     },
     "execution_count": 27,
     "metadata": {},
     "output_type": "execute_result"
    }
   ],
   "source": [
    "model1.evaluate(test_ds)"
   ]
  },
  {
   "cell_type": "code",
   "execution_count": 29,
   "id": "0efd22a2",
   "metadata": {},
   "outputs": [
    {
     "name": "stdout",
     "output_type": "stream",
     "text": [
      "training loss [0.7746715545654297, 0.3302414119243622, 0.26680612564086914, 0.1935776025056839, 0.1667155623435974, 0.13955119252204895, 0.12697631120681763, 0.11499515920877457, 0.10742764919996262, 0.09144790470600128, 0.10484741628170013, 0.08494939655065536, 0.08026254922151566, 0.06952022761106491, 0.06650924682617188]\n",
      "val_loss [0.30282333493232727, 0.2709035575389862, 0.1475432813167572, 0.17967239022254944, 0.10322503000497818, 0.08197784423828125, 0.11202148348093033, 0.06843411177396774, 0.06540719419717789, 0.16542468965053558, 0.07328346371650696, 0.03928814083337784, 0.04119427874684334, 0.04308674857020378, 0.04038392752408981]\n",
      "train_acc [0.8626723885536194, 0.8875871300697327, 0.903603732585907, 0.9351920485496521, 0.9446833729743958, 0.9565475583076477, 0.9580305218696594, 0.9642592072486877, 0.9655939340591431, 0.9721192121505737, 0.9664837718009949, 0.9736022353172302, 0.9736022353172302, 0.9787928462028503, 0.9808690547943115]\n",
      "val_acc [0.9038461446762085, 0.9038461446762085, 0.9471153616905212, 0.9459134340286255, 0.963942289352417, 0.9747596383094788, 0.9663461446762085, 0.9771634340286255, 0.9771634340286255, 0.9302884340286255, 0.9747596383094788, 0.9879807829856873, 0.9867788553237915, 0.9819711446762085, 0.989182710647583]\n"
     ]
    }
   ],
   "source": [
    "train_loss = history.history['loss']\n",
    "val_loss = history.history['val_loss']\n",
    "train_acc = history.history['accuracy']\n",
    "val_acc = history.history['val_accuracy']\n",
    "print('training loss', train_loss)\n",
    "print('val_loss', val_loss)\n",
    "print('train_acc', train_acc)\n",
    "print('val_acc', val_acc)\n",
    "plt.figure(figsize=[8,6])\n",
    "plt.plot(history.history['loss'],'r',linewidth=3.0)\n",
    "plt.plot(history.history['val_loss'],'b',linewidth=3.0)\n",
    "plt.legend(['Training loss', 'Validation Loss'],fontsize=18)\n",
    "plt.xlabel('Epochs ',fontsize=16)\n",
    "plt.ylabel('Loss',fontsize=16)\n",
    "plt.title('Loss Curves',fontsize=16)"
   ]
  },
  {
   "cell_type": "code",
   "execution_count": 30,
   "id": "7b4034ec",
   "metadata": {},
   "outputs": [
    {
     "name": "stdout",
     "output_type": "stream",
     "text": [
      "27/27 [==============================] - 1s 35ms/step\n"
     ]
    }
   ],
   "source": [
    "prediction = model1.predict(test_ds)"
   ]
  },
  {
   "cell_type": "code",
   "execution_count": 31,
   "id": "96a746b8",
   "metadata": {},
   "outputs": [
    {
     "data": {
      "text/plain": [
       "array([9.9999863e-01, 1.3294973e-06, 0.0000000e+00, 0.0000000e+00,\n",
       "       0.0000000e+00, 0.0000000e+00, 0.0000000e+00, 8.0875560e-38,\n",
       "       0.0000000e+00, 0.0000000e+00], dtype=float32)"
      ]
     },
     "execution_count": 31,
     "metadata": {},
     "output_type": "execute_result"
    }
   ],
   "source": [
    "prediction[0]"
   ]
  },
  {
   "cell_type": "code",
   "execution_count": 32,
   "id": "fdd621e9",
   "metadata": {},
   "outputs": [],
   "source": [
    "import numpy as np"
   ]
  },
  {
   "cell_type": "code",
   "execution_count": null,
   "id": "901ab05d",
   "metadata": {},
   "outputs": [],
   "source": [
    "plt.figure(figsize=(20,8))\n",
    "for images, labels in test_ds.take(1):\n",
    "    for i in range(9):\n",
    "        ax = plt.subplot(3,3,i+1)\n",
    "        plt.imshow(images[i].numpy().astype(\"uint8\"))\n",
    "        plt.title(f\"\\n Actual:{class_names[labels[i]]} \\n Prediction:{class_names[np.argmax(prediction[i])]}\")\n",
    "        plt.axis(\"off\")"
   ]
  },
  {
   "cell_type": "code",
   "execution_count": null,
   "id": "ae7985a4",
   "metadata": {},
   "outputs": [],
   "source": []
  }
 ],
 "metadata": {
  "kernelspec": {
   "display_name": "Python 3 (ipykernel)",
   "language": "python",
   "name": "python3"
  },
  "language_info": {
   "codemirror_mode": {
    "name": "ipython",
    "version": 3
   },
   "file_extension": ".py",
   "mimetype": "text/x-python",
   "name": "python",
   "nbconvert_exporter": "python",
   "pygments_lexer": "ipython3",
   "version": "3.9.13"
  }
 },
 "nbformat": 4,
 "nbformat_minor": 5
}
